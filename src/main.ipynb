{
 "cells": [
  {
   "cell_type": "code",
   "execution_count": 101,
   "metadata": {},
   "outputs": [],
   "source": [
    "import random\n",
    "import numpy as np\n",
    "import matplotlib.pyplot as plt\n",
    "from tqdm.notebook import tqdm\n",
    "import ipywidgets as widgets\n",
    "from IPython.display import display, clear_output"
   ]
  },
  {
   "cell_type": "code",
   "execution_count": 102,
   "metadata": {},
   "outputs": [],
   "source": [
    "def get_random_cell(grid):\n",
    "    while True:\n",
    "        x = random.randint(0, grid.shape[0] - 1)\n",
    "        y = random.randint(0, grid.shape[1] - 1)\n",
    "        if grid[x, y] == 0:  # if the cell is not an obstacle\n",
    "            return x, y"
   ]
  },
  {
   "cell_type": "code",
   "execution_count": 103,
   "metadata": {},
   "outputs": [],
   "source": [
    "def read_input(file_path):\n",
    "    with open(file_path, 'r') as f:\n",
    "        lines = f.readlines()  # list of strings, each string is a line of the file\n",
    "\n",
    "    grid = np.array([list(map(int, line.strip()))\n",
    "                     for line in lines[1:]])  # grid is a matrix of 1s and 0s\n",
    "    grid_reversed = np.flip(grid, axis=0)\n",
    "\n",
    "    return grid_reversed"
   ]
  },
  {
   "cell_type": "code",
   "execution_count": 104,
   "metadata": {},
   "outputs": [],
   "source": [
    "def get_reward(next_state, action, goal, grid, obstacle_punishment, wait_punishment):\n",
    "    goal_x, goal_y = goal\n",
    "    distance = np.linalg.norm(np.array([goal_x, goal_y]) - next_state)\n",
    "\n",
    "    if grid[next_state] == 1:\n",
    "        return obstacle_punishment  # obstacle\n",
    "    elif np.array_equal(next_state, goal):\n",
    "        return 100\n",
    "    elif action == (0, 0) and not np.array_equal(next_state, goal):\n",
    "        return wait_punishment  # wait action in non-goal state\n",
    "    else:\n",
    "        return -distance  # default case"
   ]
  },
  {
   "cell_type": "code",
   "execution_count": 105,
   "metadata": {},
   "outputs": [],
   "source": [
    "def get_next_state(state, action, action_probabilities, grid, goal):\n",
    "    # each action has 3 possible outcomes\n",
    "    action_mapping = {\n",
    "        (-1, 1): [(-1, 0), (-1, 1), (0, 1)],\n",
    "        (0, 1): [(-1, 1), (0, 1), (1, 1)],\n",
    "        (1, 1): [(0, 1), (1, 1), (1, 0)],\n",
    "        (-1, 0): [(-1, -1), (-1, 0), (-1, 1)],\n",
    "        (0, 0): [(0, 0), (0, 0), (0, 0)],\n",
    "        (1, 0): [(1, 1), (1, 0), (1, -1)],\n",
    "        (-1, -1): [(0, -1), (-1, -1), (-1, 0)],\n",
    "        (0, -1): [(1, -1), (0, -1), (-1, -1)],\n",
    "        (1, -1): [(0, 1), (1, -1), (-1, 0)]\n",
    "    }\n",
    "\n",
    "    possible_actions = action_mapping[action]\n",
    "    # np.random.choice must receive a 1-dim list as first argument, or a scalar (and then it converts it to a list [0 .. scalar-1])\n",
    "    actual_action_index = np.random.choice(len(possible_actions), p=action_probabilities)\n",
    "    actual_action = possible_actions[actual_action_index]\n",
    "    next_state = (state[0] + actual_action[0], state[1] + actual_action[1])\n",
    "\n",
    "    # i move if next state is within bounds and i am not on an obstacle\n",
    "    if 0 <= next_state[0] < grid.shape[0] and 0 <= next_state[1] < grid.shape[1] and grid[state[0], state[1]] == 0 and not np.array_equal(state, goal):\n",
    "        return next_state\n",
    "    else:\n",
    "        return state  # no movement if next state is out of bounds or i am currently on an obstacle"
   ]
  },
  {
   "cell_type": "code",
   "execution_count": 106,
   "metadata": {},
   "outputs": [],
   "source": [
    "# now i know how to get the next state given one\n",
    "def choose_action(state, actions, q_table, epsilon):\n",
    "    action_idx = None\n",
    "    if random.uniform(0, 1) < epsilon:\n",
    "        # explore (get a random action)\n",
    "        action_idx = random.randint(0, len(actions) - 1)\n",
    "    else:\n",
    "        # exploit (get the best action yet, argmax return index)\n",
    "        action_idx = np.argmax(q_table[state[0], state[1]])\n",
    "\n",
    "    return actions[action_idx]"
   ]
  },
  {
   "cell_type": "code",
   "execution_count": 107,
   "metadata": {},
   "outputs": [],
   "source": [
    "def update_q_table(state, action_index, next_state, reward, q_table, gamma, alpha):\n",
    "    best_q_value = np.max(q_table[next_state[0], next_state[1]])\n",
    "    previous_q_value = q_table[state[0], state[1], action_index]\n",
    "    increment = reward + gamma * best_q_value - previous_q_value\n",
    "    q_table[state[0], state[1], action_index] += alpha * increment"
   ]
  },
  {
   "cell_type": "code",
   "execution_count": 108,
   "metadata": {},
   "outputs": [],
   "source": [
    "def generate_episode(state, goal, grid, q_table, params):  # generate 1 (complete) episode\n",
    "    step_count = 0\n",
    "    total_reward = 0\n",
    "    while not np.array_equal(state, goal) and step_count < params['max_episode_length']:\n",
    "        # choose the best action with \"epsilon-greedy policy\"\n",
    "        action = choose_action(state, params['actions'], q_table, params['epsilon'])\n",
    "        # apply action and observe next state and reward\n",
    "        next_state = get_next_state(state, action, params['action_probabilities'], grid, goal)\n",
    "        reward = get_reward(next_state, action, goal, grid, params['obstacle_punishment'], params['wait_punishment'])\n",
    "        total_reward += reward\n",
    "\n",
    "        # update q_table\n",
    "        action_index = params['actions'].index(action)\n",
    "        update_q_table(state, action_index, next_state, reward, q_table, params['gamma'], params['alpha'])\n",
    "        state = next_state\n",
    "        step_count += 1\n",
    "    return total_reward, step_count"
   ]
  },
  {
   "cell_type": "code",
   "execution_count": 109,
   "metadata": {},
   "outputs": [],
   "source": [
    "# after generating all the episodes, i can get the best policy from the q_table:\n",
    "def get_policy(grid, goal, q_table):\n",
    "    policy = np.zeros((grid.shape[0], grid.shape[1]), dtype=int)\n",
    "\n",
    "    for i in range(grid.shape[0]):\n",
    "        for j in range(grid.shape[1]):\n",
    "            if not np.array_equal((i, j), goal):\n",
    "                # in state (i,j), choose the action with the highest q-value\n",
    "                policy[i, j] = np.argmax(q_table[i, j])\n",
    "    return policy"
   ]
  },
  {
   "cell_type": "code",
   "execution_count": 110,
   "metadata": {},
   "outputs": [],
   "source": [
    "def plot_policy(goal, grid, actions, policy):\n",
    "    fig, ax = plt.subplots()\n",
    "    # draw arrows representing the action in each cell\n",
    "    U = np.zeros_like(grid, dtype=float)\n",
    "    V = np.zeros_like(grid, dtype=float)\n",
    "\n",
    "    for i in range(grid.shape[0]):\n",
    "        for j in range(grid.shape[1]):\n",
    "            if not np.array_equal((i, j), goal):\n",
    "                action = actions[policy[i, j]]\n",
    "                U[i, j] = action[1]\n",
    "                V[i, j] = action[0]\n",
    "            if grid[i, j] == 1:\n",
    "                # draw a black square on obstacle cell\n",
    "                ax.fill([j, j, j+1, j+1], [i, i+1, i+1, i], \"k\")\n",
    "\n",
    "    ax.quiver(U, V)\n",
    "    ax.scatter(goal[1], goal[0], color=\"r\")  # draw a red dot on the goal cell\n",
    "    plt.show()"
   ]
  },
  {
   "cell_type": "code",
   "execution_count": 111,
   "metadata": {},
   "outputs": [],
   "source": [
    "def plot_progression(total_rewards, episode_lengths):\n",
    "    fig, axs = plt.subplots(2)\n",
    "\n",
    "    # plot total rewards\n",
    "    axs[0].plot(total_rewards)\n",
    "    axs[0].set_xlabel(\"Episode\")\n",
    "    axs[0].set_ylabel(\"Total Reward\")\n",
    "\n",
    "    # plot episode lengths\n",
    "    axs[1].plot(episode_lengths)\n",
    "    axs[1].set_xlabel(\"Episode\")\n",
    "    axs[1].set_ylabel(\"Episode Length\")\n",
    "\n",
    "    plt.tight_layout()\n",
    "    plt.show()"
   ]
  },
  {
   "cell_type": "code",
   "execution_count": 112,
   "metadata": {},
   "outputs": [],
   "source": [
    "# now i can put everything together:\n",
    "def q_learning(state, goal, grid, params, plot):\n",
    "    # initialize q_table with zeros\n",
    "    q_table = np.zeros((grid.shape[0], grid.shape[1], 9))\n",
    "\n",
    "    # lists to store total rewards and episode lengths\n",
    "    rewards = []\n",
    "    episode_lengths = []\n",
    "\n",
    "    for _ in tqdm(range(params['episodes_number']), desc=\"Episode\", colour=\"red\"):\n",
    "        reward, episode_length = generate_episode(state, goal, grid, q_table, params)\n",
    "        rewards.append(reward)\n",
    "        episode_lengths.append(episode_length)\n",
    "\n",
    "    policy = get_policy(grid, goal, q_table)\n",
    "    if plot == True:\n",
    "        plot_policy(goal, grid, params['actions'], policy)\n",
    "        plot_progression(rewards, episode_lengths)\n",
    "    return policy, rewards, episode_lengths"
   ]
  },
  {
   "cell_type": "code",
   "execution_count": 113,
   "metadata": {},
   "outputs": [],
   "source": [
    "def compare_algorithms(algorithms, params):\n",
    "\n",
    "    grid = read_input(params['file_path'])\n",
    "\n",
    "    # initialize lists to store results\n",
    "    total_rewards = {name: [] for name in algorithms.keys()}\n",
    "    total_lengths = {name: [] for name in algorithms.keys()}\n",
    "\n",
    "    colors = {\"q_learning\": \"red\"}\n",
    "\n",
    "    for run in tqdm(range(params['runs']), desc=\"Runs\"):\n",
    "\n",
    "        # generate random initial state and goal (the same for all algorithms)\n",
    "        state = get_random_cell(grid)\n",
    "        goal = get_random_cell(grid)\n",
    "\n",
    "        for name, algorithm in algorithms.items():\n",
    "            # run algorithm (the first object returned is the policy, which is not needed here)\n",
    "            _, rewards, lengths = algorithm(state, goal, grid, params, False)\n",
    "\n",
    "            # accumulate results\n",
    "            total_rewards[name].append(rewards)\n",
    "            total_lengths[name].append(lengths)\n",
    "\n",
    "    avg_rewards = {name: np.mean(total_rewards[name], axis=0) for name in algorithms.keys()}\n",
    "    avg_lengths = {name: np.mean(total_lengths[name], axis=0) for name in algorithms.keys()}\n",
    "\n",
    "    return avg_rewards, avg_lengths"
   ]
  },
  {
   "cell_type": "code",
   "execution_count": 114,
   "metadata": {},
   "outputs": [],
   "source": [
    "def plot_comparison(avg_rewards, avg_lengths):\n",
    "\n",
    "    fig, axs = plt.subplots(2)\n",
    "\n",
    "    colors = {\"q_learning\": \"red\"}\n",
    "\n",
    "    for name in avg_rewards.keys():\n",
    "        axs[0].plot(avg_rewards[name], label=name, color=colors[name])\n",
    "        axs[1].plot(avg_lengths[name], label=name, color=colors[name])\n",
    "\n",
    "    axs[0].set_xlabel(\"Run\")\n",
    "    axs[0].set_ylabel(\"Average Reward\")\n",
    "    axs[0].legend()\n",
    "\n",
    "    axs[1].set_xlabel(\"Run\")\n",
    "    axs[1].set_ylabel(\"Average Episode Length\")\n",
    "    axs[1].legend()\n",
    "\n",
    "    plt.tight_layout()\n",
    "    plt.show()"
   ]
  },
  {
   "cell_type": "code",
   "execution_count": 130,
   "metadata": {},
   "outputs": [],
   "source": [
    "def create_sliders():\n",
    "    sliders = {\n",
    "        'episodes_number_slider': widgets.IntSlider(min=1, max=1000, step=1, value=500, description='Episodes Number'),\n",
    "        'max_episode_length_slider': widgets.IntSlider(min=1, max=1000, step=1, value=500, description='Max Episode Length'),\n",
    "        'runs_slider': widgets.IntSlider(min=1, max=100, step=1, value=50, description='Runs'),\n",
    "        'obstacle_punishment_slider': widgets.FloatSlider(min=-1000, max=0, step=1, value=-500, description='Obstacle Punishment'),\n",
    "        'wait_punishment_slider': widgets.FloatSlider(min=-1000, max=0, step=1, value=-500, description='Wait Punishment'),\n",
    "        'alpha_slider': widgets.FloatSlider(min=0, max=1, step=0.01, value=0.5, description='Alpha'),\n",
    "        'gamma_slider': widgets.FloatSlider(min=0, max=1, step=0.01, value=0.5, description='Gamma'),\n",
    "        'epsilon_slider': widgets.FloatSlider(min=0, max=1, step=0.01, value=0.5, description='Epsilon')\n",
    "    }\n",
    "    return sliders"
   ]
  },
  {
   "cell_type": "code",
   "execution_count": 131,
   "metadata": {},
   "outputs": [],
   "source": [
    "action_probabilities = [0, 1, 0]\n",
    "file_path = \"../resources/small_map.txt\"\n",
    "actions = [(-1, 1), (0, 1), (1, 1),\n",
    "           (-1, 0), (0, 0), (1, 0),\n",
    "           (-1, -1), (0, -1), (1, -1)]"
   ]
  },
  {
   "cell_type": "code",
   "execution_count": 132,
   "metadata": {},
   "outputs": [],
   "source": [
    "def on_play_button_clicked(b, sliders):\n",
    "    clear_output(wait=True)\n",
    "    # get the values from the sliders\n",
    "    params = {\n",
    "        'file_path': file_path,\n",
    "        'actions': actions,\n",
    "        'action_probabilities': action_probabilities,\n",
    "        'episodes_number': sliders['episodes_number_slider'].value,\n",
    "        'max_episode_length': sliders['max_episode_length_slider'].value,\n",
    "        'runs': sliders['runs_slider'].value,\n",
    "        'obstacle_punishment': sliders['obstacle_punishment_slider'].value,\n",
    "        'wait_punishment': sliders['wait_punishment_slider'].value,\n",
    "        'alpha': sliders['alpha_slider'].value,\n",
    "        'gamma': sliders['gamma_slider'].value,\n",
    "        'epsilon': sliders['epsilon_slider'].value\n",
    "    }\n",
    "\n",
    "    algorithms = {\"q_learning\": q_learning}\n",
    "    avg_rewards, avg_lengths = compare_algorithms(algorithms, params)\n",
    "    plot_comparison(avg_rewards, avg_lengths)"
   ]
  },
  {
   "cell_type": "code",
   "execution_count": 133,
   "metadata": {},
   "outputs": [],
   "source": [
    "def create_panel():\n",
    "    sliders = create_sliders()\n",
    "    for slider in sliders.values():\n",
    "        display(slider)\n",
    "\n",
    "    play_button = widgets.Button(description=\"Play\")\n",
    "    play_button.on_click(lambda b: on_play_button_clicked(b, sliders))\n",
    "    display(play_button)"
   ]
  },
  {
   "cell_type": "code",
   "execution_count": null,
   "metadata": {},
   "outputs": [
    {
     "data": {
      "application/vnd.jupyter.widget-view+json": {
       "model_id": "b0d5ad691c6549459122611356e93dda",
       "version_major": 2,
       "version_minor": 0
      },
      "text/plain": [
       "Runs:   0%|          | 0/8 [00:00<?, ?it/s]"
      ]
     },
     "metadata": {},
     "output_type": "display_data"
    },
    {
     "data": {
      "application/vnd.jupyter.widget-view+json": {
       "model_id": "a44c725120924493b2a9883928b43061",
       "version_major": 2,
       "version_minor": 0
      },
      "text/plain": [
       "Episode:   0%|          | 0/202 [00:00<?, ?it/s]"
      ]
     },
     "metadata": {},
     "output_type": "display_data"
    },
    {
     "data": {
      "application/vnd.jupyter.widget-view+json": {
       "model_id": "8de0081028da42dd83a4b16978778f27",
       "version_major": 2,
       "version_minor": 0
      },
      "text/plain": [
       "Episode:   0%|          | 0/202 [00:00<?, ?it/s]"
      ]
     },
     "metadata": {},
     "output_type": "display_data"
    },
    {
     "data": {
      "application/vnd.jupyter.widget-view+json": {
       "model_id": "1c4791767b2b4d57a0a02dce56adde8a",
       "version_major": 2,
       "version_minor": 0
      },
      "text/plain": [
       "Episode:   0%|          | 0/202 [00:00<?, ?it/s]"
      ]
     },
     "metadata": {},
     "output_type": "display_data"
    },
    {
     "data": {
      "application/vnd.jupyter.widget-view+json": {
       "model_id": "6f978823c345459d845f81fab7171595",
       "version_major": 2,
       "version_minor": 0
      },
      "text/plain": [
       "Episode:   0%|          | 0/202 [00:00<?, ?it/s]"
      ]
     },
     "metadata": {},
     "output_type": "display_data"
    },
    {
     "data": {
      "application/vnd.jupyter.widget-view+json": {
       "model_id": "eaed8e4002564bf3be930b53a0c6fd8a",
       "version_major": 2,
       "version_minor": 0
      },
      "text/plain": [
       "Episode:   0%|          | 0/202 [00:00<?, ?it/s]"
      ]
     },
     "metadata": {},
     "output_type": "display_data"
    },
    {
     "data": {
      "application/vnd.jupyter.widget-view+json": {
       "model_id": "486fa47125c8400aadd9c0f7cf5c5d68",
       "version_major": 2,
       "version_minor": 0
      },
      "text/plain": [
       "Episode:   0%|          | 0/202 [00:00<?, ?it/s]"
      ]
     },
     "metadata": {},
     "output_type": "display_data"
    },
    {
     "data": {
      "application/vnd.jupyter.widget-view+json": {
       "model_id": "931e0fd837b343f586423d345d36aa37",
       "version_major": 2,
       "version_minor": 0
      },
      "text/plain": [
       "Episode:   0%|          | 0/202 [00:00<?, ?it/s]"
      ]
     },
     "metadata": {},
     "output_type": "display_data"
    },
    {
     "data": {
      "application/vnd.jupyter.widget-view+json": {
       "model_id": "e3f138bbdd4f479c88915bf93888c7e1",
       "version_major": 2,
       "version_minor": 0
      },
      "text/plain": [
       "Episode:   0%|          | 0/202 [00:00<?, ?it/s]"
      ]
     },
     "metadata": {},
     "output_type": "display_data"
    },
    {
     "data": {
      "image/png": "[encoded data removed]",
      "text/plain": [
       "<Figure size 640x480 with 2 Axes>"
      ]
     },
     "metadata": {},
     "output_type": "display_data"
    }
   ],
   "source": [
    "create_panel()"
   ]
  }
 ],
 "metadata": {
  "kernelspec": {
   "display_name": "venv",
   "language": "python",
   "name": "python3"
  },
  "language_info": {
   "codemirror_mode": {
    "name": "ipython",
    "version": 3
   },
   "file_extension": ".py",
   "mimetype": "text/x-python",
   "name": "python",
   "nbconvert_exporter": "python",
   "pygments_lexer": "ipython3",
   "version": "3.11.5"
  }
 },
 "nbformat": 4,
 "nbformat_minor": 2
}

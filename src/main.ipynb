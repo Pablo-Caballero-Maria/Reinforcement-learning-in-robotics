{
 "cells": [
  {
   "cell_type": "code",
   "execution_count": 17,
   "metadata": {},
   "outputs": [],
   "source": [
    "import numpy as np\n",
    "\n",
    "def read_input(file_path):\n",
    "    with open(file_path, 'r') as f:\n",
    "        lines = f.readlines() # list of strings, each string is a line of the file\n",
    "    \n",
    "    goal_coords = tuple(map(int, lines[0].strip().split()))\n",
    "    goal_coords_reversed = np.flip(goal_coords) \n",
    "    grid = np.array([list(map(int, line.strip())) for line in lines[1:]]) # grid is a matrix of 1s and 0s\n",
    "    grid_reversed = np.flip(grid, axis=0)\n",
    "    if goal_coords_reversed[0] >= grid.shape[0] or goal_coords_reversed[1] >= grid.shape[1]:\n",
    "        raise ValueError(\"Goal coordinates are outside the grid\")\n",
    "    return goal_coords_reversed, grid_reversed"
   ]
  },
  {
   "cell_type": "code",
   "execution_count": 18,
   "metadata": {},
   "outputs": [],
   "source": [
    "def get_reward(next_state, action, goal, grid, obstacle_punishment, wait_punishment):\n",
    "    goal_x, goal_y = goal\n",
    "    distance = np.linalg.norm(np.array([goal_x, goal_y]) - next_state)\n",
    "    \n",
    "    if grid[next_state] == 1:\n",
    "        return obstacle_punishment  # obstacle\n",
    "    elif np.array_equal(next_state, goal):\n",
    "        return 100\n",
    "    elif action == (0, 0) and not np.array_equal(next_state, goal):\n",
    "        return wait_punishment  # wait action in non-goal state\n",
    "    else:\n",
    "        return -distance  # default case        "
   ]
  },
  {
   "cell_type": "code",
   "execution_count": 19,
   "metadata": {},
   "outputs": [],
   "source": [
    "import random\n",
    "\n",
    "def get_next_state(state, action, action_probabilities, grid, goal):\n",
    "    # each action has 3 possible outcomes\n",
    "    action_mapping = {\n",
    "        (-1, 1) : [(-1, 0), (-1, 1), (0, 1)],\n",
    "        (0, 1) : [(-1, 1), (0, 1), (1, 1)],\n",
    "        (1, 1) : [(0, 1), (1, 1), (1, 0)],\n",
    "        (-1, 0) : [(-1, -1), (-1, 0), (-1, 1)],\n",
    "        (0, 0) : [(0, 0), (0, 0), (0, 0)],\n",
    "        (1, 0) : [(1, 1), (1, 0), (1, -1)],\n",
    "        (-1, -1) : [(0, -1), (-1, -1), (-1, 0)],\n",
    "        (0, -1) : [(1, -1), (0, -1), (-1, -1)],\n",
    "        (1, -1) : [(0, 1), (1, -1), (-1, 0)]\n",
    "    }\n",
    "    \n",
    "    possible_actions = action_mapping[action]\n",
    "    # np.random.choice must receive a 1-dim list as first argument, or a scalar (and then it converts it to a list [0 .. scalar-1])\n",
    "    actual_action_index = np.random.choice(len(possible_actions), p = action_probabilities)\n",
    "    actual_action = possible_actions[actual_action_index]\n",
    "    next_state = (state[0] + actual_action[0], state[1] + actual_action[1])\n",
    "\n",
    "    # i move if next state is within bounds and i am not on an obstacle\n",
    "    if 0 <= next_state[0] < grid.shape[0] and 0 <= next_state[1] < grid.shape[1] and grid[state[0], state[1]] == 0 and not np.array_equal(state, goal): \n",
    "        return next_state\n",
    "    else:\n",
    "        return state  # no movement if next state is out of bounds or i am currently on an obstacle"
   ]
  },
  {
   "cell_type": "code",
   "execution_count": 20,
   "metadata": {},
   "outputs": [],
   "source": [
    "# now i know how to get the next state given one\n",
    "def choose_action(state, actions, q_table, epsilon):\n",
    "    action_idx = None\n",
    "    if random.uniform(0, 1) < epsilon:\n",
    "        action_idx = random.randint(0, len(actions) - 1) # explore (get a random action)\n",
    "    else:\n",
    "        action_idx = np.argmax(q_table[state[0], state[1]]) # exploit (get the best action yet, argmax return index)\n",
    "    \n",
    "    return actions[action_idx]"
   ]
  },
  {
   "cell_type": "code",
   "execution_count": 21,
   "metadata": {},
   "outputs": [],
   "source": [
    "def update_q_table(state, action_index, next_state, reward, q_table, gamma, alpha):\n",
    "    best_q_value = np.max(q_table[next_state[0], next_state[1]])\n",
    "    previous_q_value = q_table[state[0], state[1], action_index]\n",
    "    increment = reward + gamma * best_q_value - previous_q_value\n",
    "    q_table[state[0], state[1], action_index] += alpha * increment"
   ]
  },
  {
   "cell_type": "code",
   "execution_count": 22,
   "metadata": {},
   "outputs": [],
   "source": [
    "def generate_episode(grid, goal, q_table, actions, action_probabilities, obstacle_punishment, wait_punishment, max_episode_length, alpha, gamma, epsilon): # generate 1 (complete) episode\n",
    "        state = (random.randint(0, grid.shape[0] - 1), random.randint(0, grid.shape[1] - 1)) # random initial state\n",
    "        step_count = 0\n",
    "        while not np.array_equal(state, goal) and step_count < max_episode_length:\n",
    "            action = choose_action(state, actions, q_table, epsilon) # choose the best action with \"epsilon-greedy policy\"\n",
    "            # apply action and observe next state and reward\n",
    "            next_state = get_next_state(state, action, action_probabilities, grid, goal)\n",
    "            reward = get_reward(next_state, action, goal, grid, obstacle_punishment, wait_punishment)\n",
    "\n",
    "            # update q_table\n",
    "            action_index = actions.index(action)\n",
    "            update_q_table(state, action_index, next_state, reward, q_table, gamma, alpha)\n",
    "            state = next_state\n",
    "            step_count += 1"
   ]
  },
  {
   "cell_type": "code",
   "execution_count": 23,
   "metadata": {},
   "outputs": [],
   "source": [
    "# after generating all the episodes, i can get the best policy from the q_table:\n",
    "def get_policy(grid, goal, q_table):\n",
    "    policy = np.zeros((grid.shape[0], grid.shape[1]), dtype=int)\n",
    "\n",
    "    for i in range(grid.shape[0]):\n",
    "        for j in range(grid.shape[1]):\n",
    "            if not np.array_equal((i, j), goal):\n",
    "                policy[i, j] = np.argmax(q_table[i, j]) # in state (i,j), choose the action with the highest q-value\n",
    "    return policy"
   ]
  },
  {
   "cell_type": "code",
   "execution_count": 24,
   "metadata": {},
   "outputs": [],
   "source": [
    "from matplotlib import pyplot as plt\n",
    "\n",
    "def plot_policy(grid, goal, actions, policy):\n",
    "    fig, ax = plt.subplots()\n",
    "    # draw arrows representing the action in each cell\n",
    "    U = np.zeros_like(grid, dtype = float)\n",
    "    V = np.zeros_like(grid, dtype = float)\n",
    "\n",
    "    for i in range(grid.shape[0]):\n",
    "        for j in range(grid.shape[1]):\n",
    "            if not np.array_equal((i, j), goal):\n",
    "                action = actions[policy[i, j]]\n",
    "                U[i, j] = action[1] \n",
    "                V[i, j] = action[0] \n",
    "            if grid[i, j] == 1:\n",
    "                ax.fill([j, j, j+1, j+1], [i, i+1, i+1, i], 'k')  # draw a black square on obstacle cell\n",
    "\n",
    "    ax.quiver(U, V)\n",
    "    ax.scatter(goal[1], goal[0], color='r')  # draw a red dot on the goal cell\n",
    "    plt.show()"
   ]
  },
  {
   "cell_type": "code",
   "execution_count": 25,
   "metadata": {},
   "outputs": [],
   "source": [
    "from tqdm.notebook import tqdm\n",
    "\n",
    "# now i can put everything together:\n",
    "def q_learning(file_path, actions, action_probabilities, obstacle_punishment, wait_punishment, episodes_number, max_episode_length, alpha, gamma, epsilon):\n",
    "    goal, grid = read_input(file_path)\n",
    "    \n",
    "    q_table = np.zeros((grid.shape[0], grid.shape[1], 9)) # initialize q_table with zeros\n",
    "\n",
    "    for _ in tqdm(range(episodes_number), desc = \"Episode\"):\n",
    "        generate_episode(grid, goal, q_table, actions, action_probabilities, obstacle_punishment, wait_punishment, max_episode_length, alpha, gamma, epsilon)\n",
    "\n",
    "    policy = get_policy(grid, goal, q_table)\n",
    "    plot_policy(grid, goal, actions, policy)"
   ]
  },
  {
   "cell_type": "code",
   "execution_count": 26,
   "metadata": {},
   "outputs": [
    {
     "data": {
      "application/vnd.jupyter.widget-view+json": {
       "model_id": "0549afb993e84d08b8cef4d36a5db962",
       "version_major": 2,
       "version_minor": 0
      },
      "text/plain": [
       "Episode:   0%|          | 0/1000 [00:00<?, ?it/s]"
      ]
     },
     "metadata": {},
     "output_type": "display_data"
    },
    {
     "data": {
      "image/png": "[encoded data removed]",
      "text/plain": [
       "<Figure size 640x480 with 1 Axes>"
      ]
     },
     "metadata": {},
     "output_type": "display_data"
    }
   ],
   "source": [
    "episodes_number = 1000\n",
    "max_episode_length = 1000\n",
    "alpha = 0.8\n",
    "gamma = 0.1 # only consider short-term rewards\n",
    "epsilon = 0.1\n",
    "action_probabilities = [0.05, 0.9, 0.05]\n",
    "obstacle_punishment = -10\n",
    "wait_punishment = -1000\n",
    "file_path = '../resources/small_map.txt'\n",
    "actions = [(-1, 1), (0, 1), (1, 1),\n",
    "           (-1, 0), (0, 0), (1, 0),\n",
    "           (-1, -1), (0, -1), (1, -1)]\n",
    "\n",
    "q_learning(file_path, actions, action_probabilities, obstacle_punishment, wait_punishment, episodes_number, max_episode_length, alpha, gamma, epsilon)"
   ]
  },
  {
   "cell_type": "code",
   "execution_count": null,
   "metadata": {},
   "outputs": [],
   "source": []
  }
 ],
 "metadata": {
  "kernelspec": {
   "display_name": "venv",
   "language": "python",
   "name": "python3"
  },
  "language_info": {
   "codemirror_mode": {
    "name": "ipython",
    "version": 3
   },
   "file_extension": ".py",
   "mimetype": "text/x-python",
   "name": "python",
   "nbconvert_exporter": "python",
   "pygments_lexer": "ipython3",
   "version": "3.11.5"
  }
 },
 "nbformat": 4,
 "nbformat_minor": 2
}
